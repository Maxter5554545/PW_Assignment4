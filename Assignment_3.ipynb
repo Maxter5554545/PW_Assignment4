{
 "cells": [
  {
   "cell_type": "code",
   "execution_count": null,
   "id": "6ce78b63-d81f-4a64-97cb-a94e9af43429",
   "metadata": {},
   "outputs": [],
   "source": [
    "#Q1. Which keyword is used to create a function? Create a function to return a list of odd numbers in the\n",
    "# range of 1 to 25.\n",
    "print(\"def keyword is used for creating a function.\")\n",
    "def odds():\n",
    "    '''function which defines the list of odd numbers'''\n",
    "    return [i for i in range(1, 25) if i%2 !=0]\n",
    "    \n",
    "odds()"
   ]
  },
  {
   "cell_type": "code",
   "execution_count": null,
   "id": "08c84bb8-9c97-432d-b803-6d321bbc5981",
   "metadata": {},
   "outputs": [],
   "source": [
    "# Q2. Why *args and **kwargs is used in some functions? Create a function each for *args and **kwargs\n",
    "# to demonstrate their use.\n",
    "print(\"*args are used to create a dynamic function which means we can enter multiple parameters.\\n\\nWhile, **kwargs are create dictionary type functions it set the key and value to the given parameters\")\n",
    "\n",
    "#*arguments examples\n",
    "print('\\n*arguments examples')\n",
    "def argu(*pw):\n",
    "    ''' function which creates a tuple of integers'''\n",
    "    return pw\n",
    "argu(1, 2, 3, 4, 5)\n",
    "\n",
    "print('\\n**keyword arguments examples')\n",
    "def kargu(**pwskills):\n",
    "    ''' function which creates a dictionary of some given values'''\n",
    "    return pwskills\n",
    "kargu(a = 1, b = \"ramesh from rajasthan\", c = 1 + 2, d = True, e = int(8/4))\n"
   ]
  },
  {
   "cell_type": "code",
   "execution_count": null,
   "id": "677ad817-e0bc-47da-a981-398259865239",
   "metadata": {},
   "outputs": [],
   "source": []
  },
  {
   "cell_type": "code",
   "execution_count": null,
   "id": "cbc29f6a-2f08-4fbc-ad37-26b44dd69dae",
   "metadata": {},
   "outputs": [],
   "source": []
  },
  {
   "cell_type": "code",
   "execution_count": null,
   "id": "811fe254-faf8-4c25-a54c-0c4eaaffddb2",
   "metadata": {},
   "outputs": [],
   "source": []
  },
  {
   "cell_type": "code",
   "execution_count": null,
   "id": "7737e91d-2ee5-40f1-9ec0-5f38d9f17708",
   "metadata": {},
   "outputs": [],
   "source": [
    "#Q6. Write a python program to print the first 10 Fibonacci numbers using a while loop.\n",
    "num1 = 0\n",
    "num2 = 1\n",
    "i = 0\n",
    "while i < 10:\n",
    "    print(num1)\n",
    "    c = num1 + num2\n",
    "    num1 = num2\n",
    "    num2 = c\n",
    "    i += 1"
   ]
  },
  {
   "cell_type": "code",
   "execution_count": null,
   "id": "47384d79-f588-4819-b123-740e42bfc23f",
   "metadata": {},
   "outputs": [],
   "source": [
    "#Q7. Write a List Comprehension to iterate through the given string: ‘pwskills’.\n",
    "# Expected output: ['p', 'w', 's', 'k', 'i', 'l', 'l', 's']\n",
    "string = 'pwskills'\n",
    "[i for i in string]"
   ]
  },
  {
   "cell_type": "code",
   "execution_count": 8,
   "id": "eb39cdac-dff2-44d0-9e30-012fed1d0849",
   "metadata": {},
   "outputs": [
    {
     "name": "stdin",
     "output_type": "stream",
     "text": [
      " 55\n"
     ]
    },
    {
     "name": "stdout",
     "output_type": "stream",
     "text": [
      "5555\n",
      "This is palindrome\n"
     ]
    }
   ],
   "source": [
    "# Q8. Write a python program to check whether a given number is Palindrome or not using a while loop.\n",
    "num = int(input())\n",
    "og = str(num)\n",
    "rev = ''\n",
    "i = 0\n",
    "while i < len(og):\n",
    "    rev = og[::-1]\n",
    "    print(og+rev)\n",
    "    if og == rev: \n",
    "        print(\"This is palindrome\")\n",
    "    else:\n",
    "        print(\"this is not a palindrome\")\n",
    "    break"
   ]
  },
  {
   "cell_type": "code",
   "execution_count": null,
   "id": "ed2b1431-7296-4721-8adf-a4e459337a4b",
   "metadata": {},
   "outputs": [],
   "source": [
    "# Q9. Write a code to print odd numbers from 1 to 100 using list comprehension.\n",
    "# Note: Use a list comprehension to create a list from 1 to 100 and use another List comprehension to filter out odd numbers.\n",
    "l1 = [i for i in range(1, 101) if i%2 != 0]\n",
    "print(l1)"
   ]
  }
 ],
 "metadata": {
  "kernelspec": {
   "display_name": "Python 3 (ipykernel)",
   "language": "python",
   "name": "python3"
  },
  "language_info": {
   "codemirror_mode": {
    "name": "ipython",
    "version": 3
   },
   "file_extension": ".py",
   "mimetype": "text/x-python",
   "name": "python",
   "nbconvert_exporter": "python",
   "pygments_lexer": "ipython3",
   "version": "3.10.8"
  }
 },
 "nbformat": 4,
 "nbformat_minor": 5
}
